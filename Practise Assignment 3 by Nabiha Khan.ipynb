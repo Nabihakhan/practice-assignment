{
 "cells": [
  {
   "cell_type": "markdown",
   "metadata": {},
   "source": [
    "# Q1:"
   ]
  },
  {
   "cell_type": "markdown",
   "metadata": {},
   "source": [
    "Think of at least three kinds of your favorite pizza. Store these pizza names in a list, and then use a for loop to print the name of each pizza."
   ]
  },
  {
   "cell_type": "code",
   "execution_count": 17,
   "metadata": {},
   "outputs": [
    {
     "name": "stdout",
     "output_type": "stream",
     "text": [
      "malai boti\n",
      "afghani feast\n",
      "chicken fajita\n"
     ]
    }
   ],
   "source": [
    "my_pizza_flavours = ['malai boti', 'afghani feast', 'chicken fajita']\n",
    "for i in my_pizza_flavours:\n",
    "    print(i)"
   ]
  },
  {
   "cell_type": "markdown",
   "metadata": {},
   "source": [
    "# Q2"
   ]
  },
  {
   "cell_type": "markdown",
   "metadata": {},
   "source": [
    "Start with your last question , Modify your for loop to print a sentence using the name of the pizza\n",
    "instead of printing just the name of the pizza. For each pizza you should\n",
    "have one line of output containing a simple statement like I like pepperoni\n",
    "pizza."
   ]
  },
  {
   "cell_type": "code",
   "execution_count": 14,
   "metadata": {},
   "outputs": [
    {
     "name": "stdout",
     "output_type": "stream",
     "text": [
      "\n",
      "I like Malai Boti pizza.\n",
      "\n",
      "\n",
      "I like Afghani Feast pizza.\n",
      "\n",
      "\n",
      "I like Chicken Fajita pizza.\n",
      "\n"
     ]
    }
   ],
   "source": [
    "my_pizza_flavours = ['malai boti', 'afghani feast', 'chicken fajita']\n",
    "for i in my_pizza_flavours:\n",
    "    print(\"\\nI like \" + i.title() + \" pizza.\\n\")"
   ]
  },
  {
   "cell_type": "markdown",
   "metadata": {},
   "source": [
    "# Q3:"
   ]
  },
  {
   "cell_type": "markdown",
   "metadata": {},
   "source": [
    "Use a for loop to print the numbers from 1 to 20,\n",
    "inclusive."
   ]
  },
  {
   "cell_type": "code",
   "execution_count": 14,
   "metadata": {},
   "outputs": [
    {
     "name": "stdout",
     "output_type": "stream",
     "text": [
      "1\n",
      "2\n",
      "3\n",
      "4\n",
      "5\n",
      "6\n",
      "7\n",
      "8\n",
      "9\n",
      "10\n",
      "11\n",
      "12\n",
      "13\n",
      "14\n",
      "15\n",
      "16\n",
      "17\n",
      "18\n",
      "19\n",
      "20\n"
     ]
    }
   ],
   "source": [
    "for i  in range(1,21):\n",
    "    print(i)"
   ]
  },
  {
   "cell_type": "markdown",
   "metadata": {},
   "source": [
    "# Q4:"
   ]
  },
  {
   "cell_type": "markdown",
   "metadata": {},
   "source": [
    "Use the third argument of the range() function to make a list\n",
    "of the odd numbers from 1 to 20. Use a for loop to print each number."
   ]
  },
  {
   "cell_type": "code",
   "execution_count": 18,
   "metadata": {},
   "outputs": [
    {
     "name": "stdout",
     "output_type": "stream",
     "text": [
      "1\n",
      "3\n",
      "5\n",
      "7\n",
      "9\n",
      "11\n",
      "13\n",
      "15\n",
      "17\n",
      "19\n"
     ]
    }
   ],
   "source": [
    "for i in range(1,21,2):\n",
    "    print(i)"
   ]
  },
  {
   "cell_type": "markdown",
   "metadata": {},
   "source": [
    "# Q5:"
   ]
  },
  {
   "cell_type": "markdown",
   "metadata": {},
   "source": [
    "Make a list of the multiples of 3 from 3 to 30. Use a for loop to\n",
    "print the numbers in your list."
   ]
  },
  {
   "cell_type": "code",
   "execution_count": 22,
   "metadata": {},
   "outputs": [
    {
     "name": "stdout",
     "output_type": "stream",
     "text": [
      "3\n",
      "6\n",
      "9\n",
      "12\n",
      "15\n",
      "18\n",
      "21\n",
      "24\n",
      "27\n",
      "30\n"
     ]
    }
   ],
   "source": [
    "for i in range(1,11):\n",
    "    print(i*3)"
   ]
  },
  {
   "cell_type": "markdown",
   "metadata": {},
   "source": [
    "# Q6:"
   ]
  },
  {
   "cell_type": "markdown",
   "metadata": {},
   "source": [
    "A number raised to the third power is called a cube. For example,\n",
    "the cube of 2 is written as 2**3 in Python. Make a list of the first 10 cubes (that\n",
    "is, the cube of each integer from 1 through 10), and use a for loop to print out\n",
    "the value of each cube"
   ]
  },
  {
   "cell_type": "code",
   "execution_count": 26,
   "metadata": {},
   "outputs": [
    {
     "name": "stdout",
     "output_type": "stream",
     "text": [
      "1\n",
      "8\n",
      "27\n",
      "64\n",
      "125\n",
      "216\n",
      "343\n",
      "512\n",
      "729\n",
      "1000\n"
     ]
    }
   ],
   "source": [
    "cube_list = [1,2,3,4,5,6,7,8,9,10]\n",
    "for i in cube_list:\n",
    "    print(i**3)"
   ]
  },
  {
   "cell_type": "markdown",
   "metadata": {},
   "source": [
    "# Q7:"
   ]
  },
  {
   "cell_type": "markdown",
   "metadata": {},
   "source": [
    "###### Make a python program that conatains your nine favourite dishes in a list called foods.\n",
    "\n",
    "###### Print the message, The first three items in the list are:. \n",
    "###### Then use a slice to print the first three items from that program’s list.\n",
    "\n",
    "###### Print the message, Three items from the middle of the list are:\n",
    "###### Use a slice to print three items from the middle of the list.\n",
    "\n",
    "###### Print the message, The last three items in the list are:\n",
    "###### Use a slice to print the last three items in the list."
   ]
  },
  {
   "cell_type": "code",
   "execution_count": 13,
   "metadata": {},
   "outputs": [
    {
     "name": "stdout",
     "output_type": "stream",
     "text": [
      "The first three items in the list are:\n",
      "\n",
      "pizza\n",
      "burger\n",
      "pasta\n",
      "\n",
      "Three items from the middle of the list are:\n",
      "\n",
      "biryani\n",
      "handi\n",
      "malai boti\n",
      "\n",
      "The last three items in the list are:\n",
      "\n",
      "chinese rice\n",
      "tikka\n",
      "chowmein\n"
     ]
    }
   ],
   "source": [
    "foods = ['pizza', 'burger', 'pasta', 'biryani', 'handi', 'malai boti', 'chilli prawns', 'chinese rice', 'tikka', 'chowmein' ]\n",
    "#index =   0         1         2         3         4           5              6                 7          8         9\n",
    "\n",
    "\n",
    "print(\"The first three items in the list are:\\n\")\n",
    "for i in foods[0:3]:\n",
    "    print(i)\n",
    "    \n",
    "\n",
    "print(\"\\nThree items from the middle of the list are:\\n\")\n",
    "\n",
    "for i in foods[3:6]:\n",
    "    print(i)\n",
    "    \n",
    "\n",
    "print(\"\\nThe last three items in the list are:\\n\")\n",
    "\n",
    "for i in foods[7:10]:\n",
    "    print(i)\n",
    "    \n"
   ]
  },
  {
   "cell_type": "markdown",
   "metadata": {},
   "source": [
    "# Q8:"
   ]
  },
  {
   "cell_type": "markdown",
   "metadata": {},
   "source": [
    "### Start with your program from your last Question8.\n",
    "###### Make a copy of the list of foods, and call it friend_foods.\n",
    "###### Then, do the following:\n",
    "######    Add a new dish to the original list.\n",
    "######    Add a different dish to the list friend_foodss.\n",
    "######    Prove that you have two separate lists. \n",
    "###### Print the message, My favorite pizzas are: and then use a for loop to print the first list. \n",
    "###### Print the message,\n",
    "###### My friend’s favorite foods are:, and then use a for loop to print the second list.\n",
    "    \n",
    "##### NOTE: Make sure each new dish is stored in the appropriate list."
   ]
  },
  {
   "cell_type": "code",
   "execution_count": 11,
   "metadata": {},
   "outputs": [
    {
     "name": "stdout",
     "output_type": "stream",
     "text": [
      "My favourite pizzas are:\n",
      "\n",
      "malai boti\n",
      "afghani feast\n",
      "chicken fajita\n",
      "\n",
      "My friend favourite foods are:\n",
      "\n",
      "pizza\n",
      "burger\n",
      "pasta\n",
      "biryani\n",
      "handi\n",
      "malai boti\n",
      "chilli prawns\n",
      "chinese rice\n",
      "tikka\n",
      "chowmein\n",
      "lasania\n"
     ]
    }
   ],
   "source": [
    "friend_foods = ['pizza', 'burger', 'pasta', 'biryani', 'handi', 'malai boti', 'chilli prawns', 'chinese rice', 'tikka', 'chowmein']\n",
    "#index      =      0         1         2         3         4           5              6                 7          8         9  \n",
    "\n",
    "friend_foods.append('lasania')\n",
    "friend_foods\n",
    "\n",
    "\n",
    "my_pizza_flavours = [ 'malai boti', 'afghani feast', 'chicken fajita']\n",
    "print(\"My favourite pizzas are:\\n\")\n",
    "for i in my_pizza_flavours:\n",
    "    print(i)\n",
    "    \n",
    "    \n",
    "print(\"\\nMy friend favourite foods are:\\n\")\n",
    "for i in friend_foods:\n",
    "    print(i)\n",
    "\n",
    "\n",
    "    \n"
   ]
  },
  {
   "cell_type": "markdown",
   "metadata": {},
   "source": [
    "# Q9:"
   ]
  },
  {
   "cell_type": "markdown",
   "metadata": {},
   "source": [
    " Take a user input from console line.Store it in a variable called Alien_color.\n",
    " \n",
    " If the alien’s color is red, print a statement that the player just earned 5 points for shooting the alien.\n",
    " \n",
    " If the alien’s color isn’t green, print a statement that the player just earned 10 points.\n",
    "\n",
    " If the alien's color isn't red or green , print a statment :, Alien is no more....."
   ]
  },
  {
   "cell_type": "code",
   "execution_count": 30,
   "metadata": {},
   "outputs": [
    {
     "name": "stdout",
     "output_type": "stream",
     "text": [
      "enter alien color:  red\n",
      "red\n",
      "The player just earned 5 points for shooting the alien.\n"
     ]
    }
   ],
   "source": [
    "Alien_color = input((\"enter alien color:  \"))\n",
    "print(Alien_color)\n",
    "\n",
    "\n",
    "if Alien_color == 'red':\n",
    "    print(\"The player just earned 5 points for shooting the alien.\")\n",
    "    \n",
    "elif Alien_color != 'green':\n",
    "    print(\"The player just earned 10 points\")\n",
    "    \n",
    "else:\n",
    "    print(\"Alien is no more....\")\n"
   ]
  },
  {
   "cell_type": "markdown",
   "metadata": {},
   "source": [
    "# Q10:"
   ]
  },
  {
   "cell_type": "markdown",
   "metadata": {},
   "source": [
    "Write an if-elif-else chain that determines a person’s\n",
    "stage of life. Set a value for the variable age, and then:\n",
    "    \n",
    "•\t If the person is less than 2 years old, print a message that the person is a baby.\n",
    "\n",
    "•\t If the person is at least 2 years old but less than 4, print a message that the person is a toddler.\n",
    "\n",
    "•\t If the person is at least 4 years old but less than 13, print a message that the person is a kid.\n",
    "\n",
    "•\t If the person is at least 13 years old but less than 20, print a message that the person is a teenager.\n",
    "\n",
    "•\t If the person is at least 20 years old but less than 65, print a message that the person is an adult.\n",
    "\n",
    "•\t If the person is age 65 or older, print a message that the person is an elder."
   ]
  },
  {
   "cell_type": "code",
   "execution_count": 1,
   "metadata": {},
   "outputs": [
    {
     "name": "stdout",
     "output_type": "stream",
     "text": [
      "The person is a teenager.\n"
     ]
    }
   ],
   "source": [
    "age = 19\n",
    "\n",
    "if age < 2:\n",
    "    print(\"The person is a baby.\")\n",
    "elif age < 4:\n",
    "    print(\"The person is a toddler.\")\n",
    "elif age < 13:\n",
    "    print(\"The person is a kid.\")\n",
    "elif age < 20:\n",
    "    print(\"The person is a teenager.\")\n",
    "elif age < 65:\n",
    "    print(\"The person is an adult.\")\n",
    "else:\n",
    "    print(\"The person is an elder.\")\n",
    "    \n",
    "    \n",
    "    \n",
    "    "
   ]
  },
  {
   "cell_type": "markdown",
   "metadata": {},
   "source": [
    "# Q11:"
   ]
  },
  {
   "cell_type": "markdown",
   "metadata": {},
   "source": [
    "Do the following to create a program that simulates how websites ensure that everyone has a unique username.\n",
    "\n",
    "•\t Make a list of five or more usernames called current_users.\n",
    "\n",
    "•\t Make another list of five usernames called new_users. \n",
    "Make sure one or two of the new usernames are also in the current_users list.\n",
    "\n",
    "•\t Loop through the new_users list to see if each new username has already been used. \n",
    "If it has, print a message that the person will need to enter a new username. \n",
    "If a username has not been used, print a message saying that the username is available.\n",
    "\n",
    "•\t Make sure your comparison is case insensitive. If 'John' has been used, 'JOHN' should not be accepted."
   ]
  },
  {
   "cell_type": "code",
   "execution_count": 4,
   "metadata": {},
   "outputs": [
    {
     "name": "stdout",
     "output_type": "stream",
     "text": [
      "Great, Maysa is still available.\n",
      "Great, Manal is still available.\n",
      "Sorry Soha, that name is taken.\n",
      "Great,  Yousuf is still available.\n",
      "Sorry rohaan, that name is taken.\n"
     ]
    }
   ],
   "source": [
    "current_users = ['Nabiha', ' Areeba', 'Soha', 'Rohaan', 'azlaan', 'Hira', 'Zebaish']\n",
    "#index        =     0          1        2        3         4        5         6\n",
    "\n",
    "new_users = ['Maysa', 'Manal', 'Soha', ' Yousuf', 'rohaan']\n",
    "#index  =       0        1       2         3         4\n",
    "\n",
    "current_users_lower = [user.lower() for user in current_users]\n",
    "\n",
    "for new_user in new_users:\n",
    "        if new_user.lower() in current_users_lower:\n",
    "                    print(\"Sorry \" + new_user + \", that name is taken.\")\n",
    "    \n",
    "        else:\n",
    "                    print(\"Great, \" + new_user + \" is still available.\")\n",
    "\n",
    "\n"
   ]
  },
  {
   "cell_type": "markdown",
   "metadata": {},
   "source": [
    "# Q12:"
   ]
  },
  {
   "cell_type": "markdown",
   "metadata": {},
   "source": [
    "Use a dictionary to store information about a person you know.\n",
    "Store their first name, last name, age, and the city in which they live. \n",
    "You should have keys such as first_name, last_name, age, and city. \n",
    "Print each piece of information stored in your dictionary"
   ]
  },
  {
   "cell_type": "code",
   "execution_count": 20,
   "metadata": {},
   "outputs": [
    {
     "name": "stdout",
     "output_type": "stream",
     "text": [
      "First Name: Nabiha\n",
      "Last Name: Khan\n",
      "Age: 19\n",
      "City: karachi\n"
     ]
    }
   ],
   "source": [
    "person = {\n",
    "    'first_name': 'Nabiha',\n",
    "    'last_name': 'Khan',\n",
    "    'age': 19,\n",
    "    'city':'karachi',\n",
    "}\n",
    "\n",
    "print(\"First Name: \" + person[\"first_name\"])\n",
    "print(\"Last Name: \" + person[\"last_name\"])\n",
    "print(\"Age: \" + str(person[\"age\"]))\n",
    "print(\"City: \" + person[\"city\"])   \n"
   ]
  },
  {
   "cell_type": "markdown",
   "metadata": {},
   "source": [
    "# Q13:"
   ]
  },
  {
   "cell_type": "markdown",
   "metadata": {},
   "source": [
    "Starts with your last question 12 , loop through the dictionary’s keys and values.\n",
    "When you’re sure that your loop works, add five more Python terms to your\n",
    "dictionary . When you run your program again, these new words and meanings\n",
    "should automatically be included in the output."
   ]
  },
  {
   "cell_type": "code",
   "execution_count": 31,
   "metadata": {},
   "outputs": [
    {
     "name": "stdout",
     "output_type": "stream",
     "text": [
      "first name: Nabiha\n",
      "last name: Khan\n",
      "age: 19\n",
      "city: Karachi\n",
      "def: define\n",
      "pass: to pass\n",
      "if: any condition\n",
      "break: to stop a loop\n",
      "for: for loop\n"
     ]
    }
   ],
   "source": [
    "person = {\n",
    "    \"first name\": \"Nabiha\",\n",
    "    \"last name\": \"Khan\",\n",
    "    \"age\": '19',\n",
    "    \"city\": \"Karachi\",\n",
    "}\n",
    "\n",
    "    \n",
    "    \n",
    "person[\"def\"] = \"define\"\n",
    "person[\"pass\"] = \"to pass\"\n",
    "person[\"if\"] = \"any condition\"\n",
    "person[\"break\"] = \"to stop a loop\"\n",
    "person[\"for\"] = \"for loop\"\n",
    "\n",
    "for key, value in person.items():\n",
    "    print(key + \": \" + value)    "
   ]
  },
  {
   "cell_type": "markdown",
   "metadata": {},
   "source": [
    "# Q14:"
   ]
  },
  {
   "cell_type": "markdown",
   "metadata": {},
   "source": [
    "Make a dictionary containing three major rivers and the country\n",
    "each river runs through. One key-value pair might be 'nile': 'egypt'.\n",
    "    \n",
    "    \n",
    "•\t Use a loop to print a sentence about each river, such as The Nile runs\n",
    "through Egypt.\n",
    "\n",
    "NOTE: use upper case through keys and values."
   ]
  },
  {
   "cell_type": "code",
   "execution_count": 11,
   "metadata": {},
   "outputs": [
    {
     "name": "stdout",
     "output_type": "stream",
     "text": [
      "The NILE runs through EGYPT.\n",
      "The YANGTZE runs through CHINA.\n",
      "The FRASER runs through CANADA.\n"
     ]
    }
   ],
   "source": [
    "rivers = {\n",
    "        'nile': 'egypt',\n",
    "        'yangtze': 'china',\n",
    "        'fraser': 'canada',\n",
    "}\n",
    "\n",
    "\n",
    "for river, country in rivers.items():\n",
    "        print(\"The \" + river.upper() + \" runs through \" + country.upper() + \".\")\n",
    "\n",
    "\n",
    "\n",
    "\n",
    "\n"
   ]
  },
  {
   "cell_type": "markdown",
   "metadata": {},
   "source": [
    "# Q15:"
   ]
  },
  {
   "cell_type": "markdown",
   "metadata": {},
   "source": [
    "Make several dictionaries, where the name of each dictionary is the\n",
    "name of a pet. In each dictionary, include the kind of animal and the owner’s\n",
    "name. Store these dictionaries in a list called pets. Next, loop through your list\n",
    "and as you do print everything you know about each pet."
   ]
  },
  {
   "cell_type": "code",
   "execution_count": 5,
   "metadata": {},
   "outputs": [
    {
     "name": "stdout",
     "output_type": "stream",
     "text": [
      "\n",
      "Here's what I know about Leo:\n",
      "\tanimal type: lion\n",
      "\tname: leo\n",
      "\towner: azlaan\n",
      "\tweight: 190\n",
      "\teats: meat\n",
      "\n",
      "Here's what I know about Lily:\n",
      "\tanimal type: chicken\n",
      "\tname: lily\n",
      "\towner: soha\n",
      "\tweight: 2\n",
      "\teats: seeds\n",
      "\n",
      "Here's what I know about Milo:\n",
      "\tanimal type: cat\n",
      "\tname: milo\n",
      "\towner: rohaan\n",
      "\tweight: 4\n",
      "\teats: meat\n"
     ]
    }
   ],
   "source": [
    "pets = []\n",
    "\n",
    "\n",
    "pet = {\n",
    "    'animal type': 'lion',\n",
    "    'name': 'leo',\n",
    "    'owner': 'azlaan',\n",
    "    'weight': 190,\n",
    "    'eats': 'meat',\n",
    "}\n",
    "pets.append(pet)\n",
    "\n",
    "pet = {\n",
    "    'animal type': 'chicken',\n",
    "    'name': 'lily',\n",
    "    'owner': 'soha',\n",
    "    'weight': 2,\n",
    "    'eats': 'seeds',\n",
    "}\n",
    "pets.append(pet)\n",
    "\n",
    "pet = {\n",
    "    'animal type': 'cat',\n",
    "    'name': 'milo',\n",
    "    'owner': 'rohaan',\n",
    "    'weight': 4,\n",
    "    'eats': 'meat',\n",
    "}\n",
    "pets.append(pet)\n",
    "\n",
    "\n",
    "\n",
    "for pet in pets:\n",
    "    print(\"\\nHere's what I know about \" + pet['name'].title() + \":\")\n",
    "    for key, value in pet.items():\n",
    "        print(\"\\t\" + key + \": \" + str(value))\n",
    "\n",
    "\n",
    "\n",
    "\n"
   ]
  }
 ],
 "metadata": {
  "kernelspec": {
   "display_name": "Python 3",
   "language": "python",
   "name": "python3"
  },
  "language_info": {
   "codemirror_mode": {
    "name": "ipython",
    "version": 3
   },
   "file_extension": ".py",
   "mimetype": "text/x-python",
   "name": "python",
   "nbconvert_exporter": "python",
   "pygments_lexer": "ipython3",
   "version": "3.6.4"
  }
 },
 "nbformat": 4,
 "nbformat_minor": 2
}
